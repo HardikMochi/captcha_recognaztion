{
 "cells": [
  {
   "cell_type": "code",
   "execution_count": 1,
   "metadata": {},
   "outputs": [],
   "source": [
    "\n",
    "import torchvision.transforms as transforms\n",
    "import torch\n",
    "import engine\n",
    "from model import CaptchaModel\n",
    "import config\n",
    "from train import decode_predictions\n",
    "# Flask\n",
    "from flask import Flask, redirect, url_for, request, render_template, Response, jsonify, redirect\n",
    "from werkzeug.utils import secure_filename\n",
    "from gevent.pywsgi import WSGIServer\n",
    "\n",
    "import numpy as np\n",
    "from util import base64_to_pil"
   ]
  },
  {
   "cell_type": "code",
   "execution_count": 2,
   "metadata": {},
   "outputs": [],
   "source": [
    "\n",
    "app = Flask(__name__)"
   ]
  },
  {
   "cell_type": "code",
   "execution_count": 3,
   "metadata": {},
   "outputs": [],
   "source": [
    "model_path = 'Models/Model'"
   ]
  },
  {
   "cell_type": "code",
   "execution_count": 4,
   "metadata": {},
   "outputs": [],
   "source": [
    "def preproc_image(image):\n",
    "    \"\"\"\n",
    "    :param image_path: path to the test image\n",
    "    :return: {'images': image tensor}\n",
    "    \"\"\"\n",
    "    transformer = transforms.Compose([\n",
    "        transforms.Resize((config.image_height, config.image_width)),\n",
    "        transforms.ToTensor(),\n",
    "        transforms.Normalize(mean=[0.485, 0.456, 0.406],\n",
    "                             std=[0.229, 0.224, 0.225])\n",
    "    ])\n",
    "\n",
    "    image = torch.as_tensor(transformer(image), dtype=torch.float)\n",
    "    image = torch.unsqueeze(image, dim=0)\n",
    "    image = image.to(config.DEVICE)\n",
    "    return {'images': image}"
   ]
  },
  {
   "cell_type": "code",
   "execution_count": 5,
   "metadata": {},
   "outputs": [],
   "source": [
    "def remove_duplicates(x):\n",
    "    if len(x) < 2:\n",
    "        return x\n",
    "    fin = \"\"\n",
    "    for j in x:\n",
    "        if fin == \"\":\n",
    "            fin = j\n",
    "        else:\n",
    "            if j == fin[-1]:\n",
    "                continue\n",
    "            else:\n",
    "                fin = fin + j\n",
    "    return fin"
   ]
  },
  {
   "cell_type": "code",
   "execution_count": 6,
   "metadata": {},
   "outputs": [],
   "source": [
    "def get_predictions(image, model_path):\n",
    "    le =  np.load('Data/lbl_enc.npy',allow_pickle=True)\n",
    "    classs = np.load('Data/num_class.npy',allow_pickle=True)\n",
    "    model = CaptchaModel(num_chars=len(classs))\n",
    "    model.to(config.DEVICE)\n",
    "    model.load_state_dict(torch.load(model_path))\n",
    "    model.eval()\n",
    "\n",
    "    data = preproc_image(image)\n",
    "\n",
    "    with torch.no_grad():\n",
    "        preds, _ = model(**data)\n",
    "\n",
    "    # Now decode the preds\n",
    "    preds = decode_predictions(preds, le)\n",
    "    preds = remove_blanks(preds)\n",
    "    return preds"
   ]
  },
  {
   "cell_type": "code",
   "execution_count": 7,
   "metadata": {},
   "outputs": [],
   "source": [
    "# home page\n",
    "@app.route(\"/\")\n",
    "def home():\n",
    "    return render_template(\"base.html\")\n",
    "\n",
    "\n",
    "@app.route(\"/predict\", methods=['GET', 'POST'])\n",
    "def predict():\n",
    "    if request.method == 'POST':\n",
    "        # Get the image from post request\n",
    "        img = base64_to_pil(request.json)\n",
    "        prediction = get_predictions(img, model_path)      \n",
    "\n",
    "        # Serialize the result, you can add additional fields\n",
    "        return jsonify(result=prediction)\n"
   ]
  },
  {
   "cell_type": "code",
   "execution_count": null,
   "metadata": {},
   "outputs": [
    {
     "name": "stdout",
     "output_type": "stream",
     "text": [
      " * Serving Flask app \"__main__\" (lazy loading)\n",
      " * Environment: production\n",
      "   WARNING: This is a development server. Do not use it in a production deployment.\n",
      "   Use a production WSGI server instead.\n",
      " * Debug mode: off\n"
     ]
    },
    {
     "name": "stderr",
     "output_type": "stream",
     "text": [
      " * Running on http://127.0.0.1:5002/ (Press CTRL+C to quit)\n",
      "127.0.0.1 - - [22/Mar/2021 10:18:01] \"\u001b[37mGET / HTTP/1.1\u001b[0m\" 200 -\n",
      "C:\\Users\\ramji\\anaconda3\\lib\\site-packages\\sklearn\\base.py:329: UserWarning: Trying to unpickle estimator LabelEncoder from version 0.22.2.post1 when using version 0.23.2. This might lead to breaking code or invalid results. Use at your own risk.\n",
      "  warnings.warn(\n",
      "[2021-03-22 10:18:11,208] ERROR in app: Exception on /predict [POST]\n",
      "Traceback (most recent call last):\n",
      "  File \"C:\\Users\\ramji\\anaconda3\\lib\\site-packages\\flask\\app.py\", line 2447, in wsgi_app\n",
      "    response = self.full_dispatch_request()\n",
      "  File \"C:\\Users\\ramji\\anaconda3\\lib\\site-packages\\flask\\app.py\", line 1952, in full_dispatch_request\n",
      "    rv = self.handle_user_exception(e)\n",
      "  File \"C:\\Users\\ramji\\anaconda3\\lib\\site-packages\\flask\\app.py\", line 1821, in handle_user_exception\n",
      "    reraise(exc_type, exc_value, tb)\n",
      "  File \"C:\\Users\\ramji\\anaconda3\\lib\\site-packages\\flask\\_compat.py\", line 39, in reraise\n",
      "    raise value\n",
      "  File \"C:\\Users\\ramji\\anaconda3\\lib\\site-packages\\flask\\app.py\", line 1950, in full_dispatch_request\n",
      "    rv = self.dispatch_request()\n",
      "  File \"C:\\Users\\ramji\\anaconda3\\lib\\site-packages\\flask\\app.py\", line 1936, in dispatch_request\n",
      "    return self.view_functions[rule.endpoint](**req.view_args)\n",
      "  File \"<ipython-input-7-190846e91234>\", line 12, in predict\n",
      "    prediction = get_predictions(img, model_path)\n",
      "  File \"<ipython-input-6-7b94909c0c49>\", line 5, in get_predictions\n",
      "    model.load_state_dict(torch.load(model_path))\n",
      "  File \"C:\\Users\\ramji\\anaconda3\\lib\\site-packages\\torch\\serialization.py\", line 594, in load\n",
      "    return _load(opened_zipfile, map_location, pickle_module, **pickle_load_args)\n",
      "  File \"C:\\Users\\ramji\\anaconda3\\lib\\site-packages\\torch\\serialization.py\", line 853, in _load\n",
      "    result = unpickler.load()\n",
      "  File \"C:\\Users\\ramji\\anaconda3\\lib\\site-packages\\torch\\serialization.py\", line 845, in persistent_load\n",
      "    load_tensor(data_type, size, key, _maybe_decode_ascii(location))\n",
      "  File \"C:\\Users\\ramji\\anaconda3\\lib\\site-packages\\torch\\serialization.py\", line 834, in load_tensor\n",
      "    loaded_storages[key] = restore_location(storage, location)\n",
      "  File \"C:\\Users\\ramji\\anaconda3\\lib\\site-packages\\torch\\serialization.py\", line 175, in default_restore_location\n",
      "    result = fn(storage, location)\n",
      "  File \"C:\\Users\\ramji\\anaconda3\\lib\\site-packages\\torch\\serialization.py\", line 151, in _cuda_deserialize\n",
      "    device = validate_cuda_device(location)\n",
      "  File \"C:\\Users\\ramji\\anaconda3\\lib\\site-packages\\torch\\serialization.py\", line 135, in validate_cuda_device\n",
      "    raise RuntimeError('Attempting to deserialize object on a CUDA '\n",
      "RuntimeError: Attempting to deserialize object on a CUDA device but torch.cuda.is_available() is False. If you are running on a CPU-only machine, please use torch.load with map_location=torch.device('cpu') to map your storages to the CPU.\n",
      "127.0.0.1 - - [22/Mar/2021 10:18:11] \"\u001b[35m\u001b[1mPOST /predict HTTP/1.1\u001b[0m\" 500 -\n"
     ]
    }
   ],
   "source": [
    "if __name__ == \"__main__\":\n",
    "    app.run(port=5002,debug=False)\n",
    " \n",
    "    # Serve the app with gevent\n",
    "    http_server = WSGIServer(('0.0.0.0', 5000), app)\n",
    "    http_server.serve_forever()"
   ]
  },
  {
   "cell_type": "code",
   "execution_count": 8,
   "metadata": {},
   "outputs": [
    {
     "name": "stdout",
     "output_type": "stream",
     "text": [
      "1.19.2\n"
     ]
    }
   ],
   "source": [
    "import numpy\n",
    "print(numpy.__version__)"
   ]
  },
  {
   "cell_type": "code",
   "execution_count": null,
   "metadata": {},
   "outputs": [],
   "source": []
  }
 ],
 "metadata": {
  "kernelspec": {
   "display_name": "Python 3",
   "language": "python",
   "name": "python3"
  },
  "language_info": {
   "codemirror_mode": {
    "name": "ipython",
    "version": 3
   },
   "file_extension": ".py",
   "mimetype": "text/x-python",
   "name": "python",
   "nbconvert_exporter": "python",
   "pygments_lexer": "ipython3",
   "version": "3.8.5"
  }
 },
 "nbformat": 4,
 "nbformat_minor": 4
}
