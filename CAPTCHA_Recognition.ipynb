{
  "nbformat": 4,
  "nbformat_minor": 0,
  "metadata": {
    "colab": {
      "name": "CAPTCHA Recognition.ipynb",
      "private_outputs": true,
      "provenance": [],
      "collapsed_sections": [],
      "toc_visible": true
    },
    "kernelspec": {
      "display_name": "Python 3",
      "name": "python3"
    }
  },
  "cells": [
    {
      "cell_type": "markdown",
      "metadata": {
        "id": "zUiYs7nQPJ0C"
      },
      "source": [
        "# <center>**CAPTCHA Recognition**</center>\n",
        "CAPTCHAs may be referred to those infuriating images containing the text that needs to be typed in before a person can access a particular website. The full form of CAPTCHA is “Completely Automated Public Turing test to tell Computers and Humans Apart” and as the name suggests it is a way to avert the computer to fill out the form on its own, automatically. However using the concept of deep learning and computer vision, the very purpose of the CAPTCHAs can be defeated. This test can be passed automatically with the help of Convolutional Neural networks(CNN)."
      ]
    },
    {
      "cell_type": "code",
      "metadata": {
        "id": "2moBobDtxLJP"
      },
      "source": [
        "# Import the required Package\n",
        "import os\n",
        "import glob\n",
        "import torch\n",
        "import numpy as np\n",
        "import matplotlib.pyplot as plt\n",
        "from PIL import Image\n",
        "from PIL import ImageFile\n",
        "from torch import nn\n",
        "torch.cuda.empty_cache()\n",
        "from sklearn import preprocessing\n",
        "from sklearn import model_selection\n",
        "from sklearn import metrics\n",
        "\n",
        "import engine\n",
        "from model import CaptchaModel\n",
        "import config\n",
        "import dataset\n"
      ],
      "execution_count": null,
      "outputs": []
    },
    {
      "cell_type": "markdown",
      "metadata": {
        "id": "MfCAHGh7Rke7"
      },
      "source": [
        "## **Helper Function**"
      ]
    },
    {
      "cell_type": "code",
      "metadata": {
        "id": "HU36s722PojQ"
      },
      "source": [
        "# this function is useful to remove the duplicate charecter that generate by model \n",
        "\n",
        "def remove_duplicates(x):\n",
        "    if len(x) < 2:\n",
        "        return x\n",
        "    fin = \"\"\n",
        "    for j in x:\n",
        "        if fin == \"\":\n",
        "            fin = j\n",
        "        else:\n",
        "            if j == fin[-1]:\n",
        "                continue\n",
        "            else:\n",
        "                fin = fin + j\n",
        "    return fin"
      ],
      "execution_count": null,
      "outputs": []
    },
    {
      "cell_type": "code",
      "metadata": {
        "id": "Xh6ewNCHPrSn"
      },
      "source": [
        "# this function is useful to decode the prediction \n",
        "# after getting prediction convert the  number to character\n",
        "\n",
        "def decode_predictions(preds, encoder):\n",
        "    preds = preds.permute(1, 0, 2)\n",
        "    preds = torch.softmax(preds, 2)\n",
        "    preds = torch.argmax(preds, 2)\n",
        "    preds = preds.detach().cpu().numpy()\n",
        "    cap_preds = []\n",
        "    for j in range(preds.shape[0]):\n",
        "        temp = []\n",
        "        for k in preds[j, :]:\n",
        "            k = k - 1\n",
        "            if k == -1:\n",
        "                temp.append(\"ยง\")\n",
        "            else:\n",
        "                p = encoder.inverse_transform([k])[0]\n",
        "                temp.append(p)\n",
        "        tp = \"\".join(temp).replace(\"ยง\", \"\")\n",
        "        cap_preds.append(remove_duplicates(tp))\n",
        "    return cap_preds"
      ],
      "execution_count": null,
      "outputs": []
    },
    {
      "cell_type": "markdown",
      "metadata": {
        "id": "TANU_STVRp53"
      },
      "source": [
        "## **Label encoding**"
      ]
    },
    {
      "cell_type": "code",
      "metadata": {
        "id": "XWWgtsjdwJeX"
      },
      "source": [
        "image_files = glob.glob(os.path.join(config.DATA_DIR,\"*.png\"))\n",
        "targets_orig = [x.split('/')[-1][:-4] for x in image_files]\n",
        "targets = [[c for c in t] for t in targets_orig]\n",
        "target_flat = [c for t in targets for c in t ]\n",
        "\n",
        "# Encoding the charecter of CAPTCHA by using the label encoding.\n",
        "lbl_enc = preprocessing.LabelEncoder()\n",
        "lbl_enc.fit(target_flat)\n",
        "targets_enc = [lbl_enc.transform(x) for x in targets]\n",
        "targets_enc = np.array(targets_enc)\n",
        "targets_enc = targets_enc + 1\n"
      ],
      "execution_count": null,
      "outputs": []
    },
    {
      "cell_type": "markdown",
      "metadata": {
        "id": "u5JCr85-RxiW"
      },
      "source": [
        "## **Split the data into training and testing part**"
      ]
    },
    {
      "cell_type": "code",
      "metadata": {
        "id": "A9RkbdYpRYYS"
      },
      "source": [
        "\n",
        "train_imgs,test_imgs,train_targets,test_targets,_,test_targets_orig = model_selection.train_test_split(image_files, targets_enc, targets_orig, test_size=0.1, random_state=42)"
      ],
      "execution_count": null,
      "outputs": []
    },
    {
      "cell_type": "markdown",
      "metadata": {
        "id": "fLxwz5sUSKy_"
      },
      "source": [
        "## **Create dataset**"
      ]
    },
    {
      "cell_type": "code",
      "metadata": {
        "id": "AmwGBtZmwYX3"
      },
      "source": [
        "#data set class for train data\n",
        "train_dataset = dataset.ClassificationDataset(\n",
        "    image_paths=train_imgs,\n",
        "    targets=train_targets,\n",
        "    resize=(config.IMAGE_HEIGHT, config.IMAGE_WIDTH),)\n",
        "\n",
        "train_loader = torch.utils.data.DataLoader(\n",
        "    train_dataset,\n",
        "    batch_size=config.BATCH_SIZE,\n",
        "    num_workers=config.NUM_WORKERS,\n",
        "    shuffle=True,)\n",
        "\n",
        "#data set class for test data\n",
        "test_dataset = dataset.ClassificationDataset(\n",
        "    image_paths=test_imgs,\n",
        "    targets=test_targets,\n",
        "    resize=(config.IMAGE_HEIGHT, config.IMAGE_WIDTH),)\n",
        "\n",
        "test_loader = torch.utils.data.DataLoader(\n",
        "    test_dataset,\n",
        "    batch_size=config.BATCH_SIZE,\n",
        "    num_workers=config.NUM_WORKERS,\n",
        "    shuffle=False,)"
      ],
      "execution_count": null,
      "outputs": []
    },
    {
      "cell_type": "markdown",
      "metadata": {
        "id": "ESC7KgapSZ5i"
      },
      "source": [
        "## **Load the Captcha Model**"
      ]
    },
    {
      "cell_type": "code",
      "metadata": {
        "id": "uud9BakSm-V_"
      },
      "source": [
        "model = CaptchaModel(num_chars=len(lbl_enc.classes_))\n",
        "model.to(config.DEVICE)\n",
        "\n",
        "optimizer = torch.optim.Adam(model.parameters(), lr=3e-4)\n",
        "scheduler = torch.optim.lr_scheduler.ReduceLROnPlateau(\n",
        "    optimizer, factor=0.8, patience=5, verbose=True)\n",
        "\n",
        "  "
      ],
      "execution_count": null,
      "outputs": []
    },
    {
      "cell_type": "markdown",
      "metadata": {
        "id": "CckxYlzKSfwj"
      },
      "source": [
        "## **Train the Model**"
      ]
    },
    {
      "cell_type": "code",
      "metadata": {
        "id": "rSSF-qIfza--"
      },
      "source": [
        "for epoch in range(70):\n",
        "    train_loss = engine.train_fn(model,train_loader,optimizer)\n",
        "    valid_preds, test_loss = engine.eval_fn(model, test_loader)\n",
        "    valid_cap_preds = []\n",
        "    for vp in valid_preds:\n",
        "      current_preds = decode_predictions(vp,lbl_enc)\n",
        "      valid_cap_preds.extend(current_preds)\n",
        "    print(list(zip(test_targets_orig, valid_cap_preds))[6:11])\n",
        "    print(f\"Epoch={epoch}, Train Loss={train_loss}, Test Loss={test_loss} \") \n"
      ],
      "execution_count": null,
      "outputs": []
    },
    {
      "cell_type": "markdown",
      "metadata": {
        "id": "ZTYsXIqWTAsX"
      },
      "source": [
        "## Saving  the Model and other variable "
      ]
    },
    {
      "cell_type": "code",
      "metadata": {
        "id": "nivrgUTVQzxY"
      },
      "source": [
        "import pickle\n",
        "with open('gdrive/MyDrive/lbl.pickle', 'wb') as handle:\n",
        "    pickle.dump(lbl_enc, handle, protocol=pickle.HIGHEST_PROTOCOL)"
      ],
      "execution_count": null,
      "outputs": []
    },
    {
      "cell_type": "code",
      "metadata": {
        "id": "0iR9ZpVOO6De"
      },
      "source": [
        "model_save_name = 'captcha_re.pt'\n",
        "path = F\"/content/gdrive/My Drive/{model_save_name}\"\n",
        "torch.save(model, path)"
      ],
      "execution_count": null,
      "outputs": []
    }
  ]
}